{
  "nbformat": 4,
  "nbformat_minor": 0,
  "metadata": {
    "colab": {
      "name": "Taking Derivatives in Python.ipynb",
      "provenance": [],
      "authorship_tag": "ABX9TyPnd6b4dusheQmYFfPe8LTy",
      "include_colab_link": true
    },
    "kernelspec": {
      "name": "python3",
      "display_name": "Python 3"
    }
  },
  "cells": [
    {
      "cell_type": "markdown",
      "metadata": {
        "id": "view-in-github",
        "colab_type": "text"
      },
      "source": [
        "<a href=\"https://colab.research.google.com/github/OliveiraEdu/R/blob/master/Taking_Derivatives_in_Python.ipynb\" target=\"_parent\"><img src=\"https://colab.research.google.com/assets/colab-badge.svg\" alt=\"Open In Colab\"/></a>"
      ]
    },
    {
      "cell_type": "markdown",
      "metadata": {
        "id": "cFinVrKhz0HW",
        "colab_type": "text"
      },
      "source": [
        "\n",
        "[Taking Derivatives in Python](https://towardsdatascience.com/taking-derivatives-in-python-d6229ba72c64)"
      ]
    },
    {
      "cell_type": "code",
      "metadata": {
        "id": "zhkrGBVQxEGT",
        "colab_type": "code",
        "colab": {}
      },
      "source": [
        "import sympy as sym\n",
        "import numpy as np\n"
      ],
      "execution_count": null,
      "outputs": []
    },
    {
      "cell_type": "markdown",
      "metadata": {
        "id": "clbF5ZuUzx82",
        "colab_type": "text"
      },
      "source": [
        "Power Rule"
      ]
    },
    {
      "cell_type": "code",
      "metadata": {
        "id": "hATEnuL9xImQ",
        "colab_type": "code",
        "colab": {
          "base_uri": "https://localhost:8080/",
          "height": 34
        },
        "outputId": "ba7a60cb-a80c-40b2-912f-83f432b2c3ba"
      },
      "source": [
        "n=4\n",
        "x = sym.Symbol('x')\n",
        "sym.diff(x**n)\n"
      ],
      "execution_count": null,
      "outputs": [
        {
          "output_type": "execute_result",
          "data": {
            "text/plain": [
              "4*x**3"
            ]
          },
          "metadata": {
            "tags": []
          },
          "execution_count": 9
        }
      ]
    },
    {
      "cell_type": "markdown",
      "metadata": {
        "id": "-rK5jE_KztIY",
        "colab_type": "text"
      },
      "source": [
        "Product Rule"
      ]
    },
    {
      "cell_type": "code",
      "metadata": {
        "id": "TnMNPTyGzdqi",
        "colab_type": "code",
        "colab": {
          "base_uri": "https://localhost:8080/",
          "height": 34
        },
        "outputId": "33f56e71-cf23-4fc2-9668-6155dfda9875"
      },
      "source": [
        "sym.diff((x**2+1)*sym.cos(x))"
      ],
      "execution_count": null,
      "outputs": [
        {
          "output_type": "execute_result",
          "data": {
            "text/plain": [
              "2*x*cos(x) - (x**2 + 1)*sin(x)"
            ]
          },
          "metadata": {
            "tags": []
          },
          "execution_count": 12
        }
      ]
    },
    {
      "cell_type": "markdown",
      "metadata": {
        "id": "0h8pfryj0cjF",
        "colab_type": "text"
      },
      "source": [
        "Chain Rule"
      ]
    },
    {
      "cell_type": "code",
      "metadata": {
        "id": "pkz9uZza1OD3",
        "colab_type": "code",
        "colab": {
          "base_uri": "https://localhost:8080/",
          "height": 34
        },
        "outputId": "39c01a94-cfd3-4cf0-f259-c24552f96935"
      },
      "source": [
        "sym.diff((x**2-3*x+5)**3)"
      ],
      "execution_count": null,
      "outputs": [
        {
          "output_type": "execute_result",
          "data": {
            "text/plain": [
              "(6*x - 9)*(x**2 - 3*x + 5)**2"
            ]
          },
          "metadata": {
            "tags": []
          },
          "execution_count": 13
        }
      ]
    },
    {
      "cell_type": "markdown",
      "metadata": {
        "id": "ssIn34bg1d1o",
        "colab_type": "text"
      },
      "source": [
        "The Derivative of a Multi-Variable Functions"
      ]
    },
    {
      "cell_type": "code",
      "metadata": {
        "id": "TvaPHaVl1ouz",
        "colab_type": "code",
        "colab": {
          "base_uri": "https://localhost:8080/",
          "height": 34
        },
        "outputId": "c06d0cc6-972d-4968-fbc1-9cb57b0d79a7"
      },
      "source": [
        "x, y = sym.symbols('x y')\n",
        "sym.diff(x**2 * y, y)"
      ],
      "execution_count": null,
      "outputs": [
        {
          "output_type": "execute_result",
          "data": {
            "text/plain": [
              "x**2"
            ]
          },
          "metadata": {
            "tags": []
          },
          "execution_count": 19
        }
      ]
    },
    {
      "cell_type": "code",
      "metadata": {
        "id": "Lp2UNewc-g1s",
        "colab_type": "code",
        "colab": {
          "base_uri": "https://localhost:8080/",
          "height": 34
        },
        "outputId": "6311aedc-9a71-4ce5-c200-bd40ab03e6b5"
      },
      "source": [
        "sym.diff(x**2 * y, x)"
      ],
      "execution_count": null,
      "outputs": [
        {
          "output_type": "execute_result",
          "data": {
            "text/plain": [
              "2*x*y"
            ]
          },
          "metadata": {
            "tags": []
          },
          "execution_count": 20
        }
      ]
    },
    {
      "cell_type": "code",
      "metadata": {
        "id": "gzNoKj6-BmFj",
        "colab_type": "code",
        "colab": {
          "base_uri": "https://localhost:8080/",
          "height": 34
        },
        "outputId": "837e6c08-07cb-4c08-8609-bbd4a0e8f361"
      },
      "source": [
        "x, y, z = sym.symbols('x y z')\n",
        "\n",
        "f= x**2 * y * z**5\n",
        "\n",
        "\n",
        "sym.diff(f,z)"
      ],
      "execution_count": null,
      "outputs": [
        {
          "output_type": "execute_result",
          "data": {
            "text/plain": [
              "5*x**2*y*z**4"
            ]
          },
          "metadata": {
            "tags": []
          },
          "execution_count": 22
        }
      ]
    },
    {
      "cell_type": "code",
      "metadata": {
        "id": "6LZhnWYKB_BJ",
        "colab_type": "code",
        "colab": {
          "base_uri": "https://localhost:8080/",
          "height": 34
        },
        "outputId": "b05a6d75-3658-4205-dd69-f6c85bd74d08"
      },
      "source": [
        "sym.diff(f,x)\n"
      ],
      "execution_count": null,
      "outputs": [
        {
          "output_type": "execute_result",
          "data": {
            "text/plain": [
              "2*x*y*z**5"
            ]
          },
          "metadata": {
            "tags": []
          },
          "execution_count": 23
        }
      ]
    },
    {
      "cell_type": "code",
      "metadata": {
        "id": "xBHtiT_fCAR_",
        "colab_type": "code",
        "colab": {
          "base_uri": "https://localhost:8080/",
          "height": 34
        },
        "outputId": "8f3967a4-72f4-4f05-8d27-b29ebceeb579"
      },
      "source": [
        "sym.diff(f,y)"
      ],
      "execution_count": null,
      "outputs": [
        {
          "output_type": "execute_result",
          "data": {
            "text/plain": [
              "x**2*z**5"
            ]
          },
          "metadata": {
            "tags": []
          },
          "execution_count": 24
        }
      ]
    }
  ]
}